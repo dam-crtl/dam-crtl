{
  "cells": [
    {
      "cell_type": "markdown",
      "metadata": {
        "id": "view-in-github",
        "colab_type": "text"
      },
      "source": [
        "<a href=\"https://colab.research.google.com/github/dam-crtl/dam-crtl/blob/main/chap9_5.ipynb\" target=\"_parent\"><img src=\"https://colab.research.google.com/assets/colab-badge.svg\" alt=\"Open In Colab\"/></a>"
      ]
    },
    {
      "cell_type": "code",
      "execution_count": 57,
      "metadata": {
        "id": "ROZ0hcAvbMtd"
      },
      "outputs": [],
      "source": [
        "import os\n",
        "os.environ['KMP_DUPLICATE_LIB_OK']='TRUE'"
      ]
    },
    {
      "cell_type": "code",
      "execution_count": 58,
      "metadata": {
        "id": "y_5iKa8ebMtg"
      },
      "outputs": [],
      "source": [
        "from keras.datasets import mnist\n",
        "(X_train, y_train), (X_test, y_test) = mnist.load_data()"
      ]
    },
    {
      "cell_type": "code",
      "execution_count": 59,
      "metadata": {
        "colab": {
          "base_uri": "https://localhost:8080/"
        },
        "id": "VEBh5aN6bMtg",
        "outputId": "bef48791-28f9-49a9-c9af-bc2a419cd8d8"
      },
      "outputs": [
        {
          "output_type": "execute_result",
          "data": {
            "text/plain": [
              "((60000, 28, 28), (60000,))"
            ]
          },
          "metadata": {},
          "execution_count": 59
        }
      ],
      "source": [
        "X_train.shape, y_train.shape"
      ]
    },
    {
      "cell_type": "code",
      "execution_count": 60,
      "metadata": {
        "colab": {
          "base_uri": "https://localhost:8080/"
        },
        "id": "BTyS8EBQbMtg",
        "outputId": "355cd520-5559-4902-816d-ab4bc4bbad73"
      },
      "outputs": [
        {
          "output_type": "execute_result",
          "data": {
            "text/plain": [
              "array([0, 1, 2, 3, 4, 5, 6, 7, 8, 9], dtype=uint8)"
            ]
          },
          "metadata": {},
          "execution_count": 60
        }
      ],
      "source": [
        "import numpy as np\n",
        "np.unique(y_train)"
      ]
    },
    {
      "cell_type": "code",
      "execution_count": 61,
      "metadata": {
        "id": "4d0QjmcubMth"
      },
      "outputs": [],
      "source": [
        "import matplotlib.pyplot as plt"
      ]
    },
    {
      "cell_type": "code",
      "execution_count": 62,
      "metadata": {
        "colab": {
          "base_uri": "https://localhost:8080/",
          "height": 207
        },
        "id": "jLCHImtnbMth",
        "outputId": "5484c001-6d19-43df-cb2a-913422996ef5"
      },
      "outputs": [
        {
          "output_type": "display_data",
          "data": {
            "text/plain": [
              "<Figure size 432x288 with 10 Axes>"
            ],
            "image/png": "[encoded data removed]"
          },
          "metadata": {
            "needs_background": "light"
          }
        }
      ],
      "source": [
        "for i in range(10):\n",
        "    plt.subplot(2, 5, i + 1)\n",
        "    plt.imshow(X_train[i, :, :], cmap='gray')\n",
        "    plt.axis('off')"
      ]
    },
    {
      "cell_type": "code",
      "execution_count": 63,
      "metadata": {
        "id": "0N16rX0EbMth"
      },
      "outputs": [],
      "source": [
        "from sklearn.preprocessing import OneHotEncoder\n",
        "enc = OneHotEncoder(sparse=False, dtype=np.float32)\n",
        "y_train_pre = enc.fit_transform(y_train.reshape(-1, 1))"
      ]
    },
    {
      "cell_type": "code",
      "execution_count": 64,
      "metadata": {
        "id": "5FQ3l3odbMti"
      },
      "outputs": [],
      "source": [
        "y_test_pre = enc.fit_transform(y_test.reshape(-1, 1))"
      ]
    },
    {
      "cell_type": "code",
      "execution_count": 65,
      "metadata": {
        "id": "W0Uarl2vbMti"
      },
      "outputs": [],
      "source": [
        "X_train_pre = X_train.reshape(X_train.shape[0], -1)\n",
        "X_train_pre = X_train_pre.astype(np.float32) / 255.0\n",
        "X_test_pre = X_test.reshape(X_test.shape[0], -1)\n",
        "X_test_pre = X_test_pre.astype(np.float32) /255.0"
      ]
    },
    {
      "cell_type": "code",
      "execution_count": 66,
      "metadata": {
        "id": "pK9o-kzJbMtj"
      },
      "outputs": [],
      "source": [
        "import cv2\n",
        "mlp= cv2.ml.ANN_MLP_create()"
      ]
    },
    {
      "cell_type": "code",
      "execution_count": 67,
      "metadata": {
        "id": "_EO0I3_ibMtj"
      },
      "outputs": [],
      "source": [
        "mlp.setLayerSizes(np.array([784, 512, 512, 10]))"
      ]
    },
    {
      "cell_type": "code",
      "execution_count": 68,
      "metadata": {
        "id": "CWG-bhMFbMtj"
      },
      "outputs": [],
      "source": [
        "mlp.setActivationFunction(cv2.ml.ANN_MLP_SIGMOID_SYM, 2.5, 1.0)"
      ]
    },
    {
      "cell_type": "code",
      "execution_count": 69,
      "metadata": {
        "id": "8rU4ns9zbMtj"
      },
      "outputs": [],
      "source": [
        "mlp.setTrainMethod(cv2.ml.ANN_MLP_BACKPROP)\n",
        "mlp.setBackpropWeightScale(0.00001)"
      ]
    },
    {
      "cell_type": "code",
      "execution_count": 70,
      "metadata": {
        "id": "95pSJBb3bMtj"
      },
      "outputs": [],
      "source": [
        "term_mode = (cv2.TERM_CRITERIA_MAX_ITER + cv2.TERM_CRITERIA_EPS)\n",
        "term_max_iter = 10\n",
        "term_eps = 0.01\n",
        "mlp.setTermCriteria((term_mode, term_max_iter, term_eps))"
      ]
    },
    {
      "cell_type": "code",
      "execution_count": 71,
      "metadata": {
        "id": "eUc3JfEabMtj",
        "colab": {
          "base_uri": "https://localhost:8080/"
        },
        "outputId": "228d75ff-e9dc-4a07-9856-6c7ed841c8d1"
      },
      "outputs": [
        {
          "output_type": "execute_result",
          "data": {
            "text/plain": [
              "True"
            ]
          },
          "metadata": {},
          "execution_count": 71
        }
      ],
      "source": [
        "mlp.train(X_train_pre, cv2.ml.ROW_SAMPLE, y_train_pre)"
      ]
    },
    {
      "cell_type": "code",
      "execution_count": 72,
      "metadata": {
        "id": "2u0qfMfcbMtk"
      },
      "outputs": [],
      "source": [
        "_, y_hat_train = mlp.predict(X_train_pre)"
      ]
    },
    {
      "cell_type": "code",
      "execution_count": 73,
      "metadata": {
        "id": "Tdm_onWtbMtk",
        "colab": {
          "base_uri": "https://localhost:8080/"
        },
        "outputId": "69d47051-8ab2-45dd-962b-d648498c3e37"
      },
      "outputs": [
        {
          "output_type": "execute_result",
          "data": {
            "text/plain": [
              "0.8539166666666667"
            ]
          },
          "metadata": {},
          "execution_count": 73
        }
      ],
      "source": [
        "from sklearn.metrics import accuracy_score\n",
        "accuracy_score(y_hat_train.round(), y_train_pre)"
      ]
    },
    {
      "cell_type": "code",
      "execution_count": 74,
      "metadata": {
        "id": "a_KXhvYcbMtk",
        "colab": {
          "base_uri": "https://localhost:8080/"
        },
        "outputId": "ad24f3fe-6407-4d63-ac00-c079f5b65b51"
      },
      "outputs": [
        {
          "output_type": "execute_result",
          "data": {
            "text/plain": [
              "0.8488"
            ]
          },
          "metadata": {},
          "execution_count": 74
        }
      ],
      "source": [
        "_, y_hat_test = mlp.predict(X_test_pre)\n",
        "accuracy_score(y_hat_test.round(), y_test_pre)"
      ]
    },
    {
      "cell_type": "markdown",
      "metadata": {
        "id": "kIKYu1v0bMtk"
      },
      "source": [
        "#### Kerasを用いてDNNに学習させる"
      ]
    },
    {
      "cell_type": "code",
      "execution_count": 75,
      "metadata": {
        "id": "7n9Very2bMtl"
      },
      "outputs": [],
      "source": [
        "import numpy as np\n",
        "np.random.seed(1337)"
      ]
    },
    {
      "cell_type": "code",
      "execution_count": 76,
      "metadata": {
        "id": "Ka0BFNJ7bMtl"
      },
      "outputs": [],
      "source": [
        "img_rows, img_cols = 28, 28\n",
        "X_train = X_train.reshape(X_train.shape[0], img_rows, img_cols, 1)\n",
        "X_test = X_test.reshape(X_test.shape[0], img_rows, img_cols, 1)\n",
        "input_shape = (img_rows, img_cols, 1)"
      ]
    },
    {
      "cell_type": "code",
      "execution_count": 77,
      "metadata": {
        "id": "5e5LT20MbMtl"
      },
      "outputs": [],
      "source": [
        "X_train = X_train.astype('float32') / 255.0\n",
        "X_test = X_test.astype('float32') / 255.0"
      ]
    },
    {
      "cell_type": "code",
      "execution_count": 78,
      "metadata": {
        "id": "YwwhIxxlbMtl"
      },
      "outputs": [],
      "source": [
        "from keras.utils import np_utils\n",
        "n_classes = 10\n",
        "Y_train = np_utils.to_categorical(y_train, n_classes)\n",
        "Y_test = np_utils.to_categorical(y_test, n_classes)"
      ]
    },
    {
      "cell_type": "code",
      "execution_count": 79,
      "metadata": {
        "id": "E4qGULcybMtm"
      },
      "outputs": [],
      "source": [
        "from keras.models import Sequential\n",
        "model = Sequential()"
      ]
    },
    {
      "cell_type": "code",
      "execution_count": 80,
      "metadata": {
        "id": "OwUjmBeXbMtm"
      },
      "outputs": [],
      "source": [
        "from keras.layers import Conv2D\n",
        "from keras.layers import Activation\n",
        "from keras.layers import Flatten, Dense\n",
        "from keras.layers import MaxPooling2D, Dropout\n",
        "n_filters = 32\n",
        "kernel_size = (3, 3)\n",
        "pool_size=(2, 2)\n",
        "model.add(Conv2D(n_filters, kernel_size[0], kernel_size[1], padding=\"valid\", input_shape=input_shape))\n",
        "model.add(Activation('relu'))\n",
        "model.add(Conv2D(n_filters, kernel_size[0], kernel_size[1]))\n",
        "model.add(Activation('relu'))\n",
        "model.add(MaxPooling2D(pool_size=pool_size))\n",
        "model.add(Dropout(0.25))\n",
        "model.add(Flatten())\n",
        "model.add(Dense(128))\n",
        "model.add(Activation('relu'))\n",
        "model.add(Dropout(0.5))\n",
        "model.add(Dense(n_classes))\n",
        "model.add(Activation('softmax'))"
      ]
    },
    {
      "cell_type": "code",
      "execution_count": 81,
      "metadata": {
        "id": "mQgm05nLbMtm"
      },
      "outputs": [],
      "source": [
        "model.compile(loss='categorical_crossentropy', optimizer='adadelta', metrics=['accuracy'])"
      ]
    },
    {
      "cell_type": "code",
      "execution_count": 84,
      "metadata": {
        "id": "0MRJQcOWbMtm",
        "colab": {
          "base_uri": "https://localhost:8080/"
        },
        "outputId": "be65b3fa-5b47-474c-9c71-4b65f564a56d"
      },
      "outputs": [
        {
          "output_type": "stream",
          "name": "stdout",
          "text": [
            "Epoch 1/12\n",
            "469/469 [==============================] - 9s 13ms/step - loss: 2.3021 - accuracy: 0.1037 - val_loss: 2.3008 - val_accuracy: 0.1052\n",
            "Epoch 2/12\n",
            "469/469 [==============================] - 6s 12ms/step - loss: 2.3008 - accuracy: 0.1064 - val_loss: 2.2994 - val_accuracy: 0.1058\n",
            "Epoch 3/12\n",
            "469/469 [==============================] - 6s 12ms/step - loss: 2.2995 - accuracy: 0.1076 - val_loss: 2.2981 - val_accuracy: 0.1076\n",
            "Epoch 4/12\n",
            "469/469 [==============================] - 6s 13ms/step - loss: 2.2982 - accuracy: 0.1093 - val_loss: 2.2969 - val_accuracy: 0.1084\n",
            "Epoch 5/12\n",
            "469/469 [==============================] - 6s 13ms/step - loss: 2.2975 - accuracy: 0.1101 - val_loss: 2.2956 - val_accuracy: 0.1087\n",
            "Epoch 6/12\n",
            "469/469 [==============================] - 6s 12ms/step - loss: 2.2964 - accuracy: 0.1128 - val_loss: 2.2943 - val_accuracy: 0.1096\n",
            "Epoch 7/12\n",
            "469/469 [==============================] - 6s 12ms/step - loss: 2.2952 - accuracy: 0.1143 - val_loss: 2.2930 - val_accuracy: 0.1099\n",
            "Epoch 8/12\n",
            "469/469 [==============================] - 6s 12ms/step - loss: 2.2936 - accuracy: 0.1167 - val_loss: 2.2917 - val_accuracy: 0.1113\n",
            "Epoch 9/12\n",
            "469/469 [==============================] - 6s 12ms/step - loss: 2.2926 - accuracy: 0.1170 - val_loss: 2.2904 - val_accuracy: 0.1115\n",
            "Epoch 10/12\n",
            "469/469 [==============================] - 6s 12ms/step - loss: 2.2916 - accuracy: 0.1176 - val_loss: 2.2890 - val_accuracy: 0.1113\n",
            "Epoch 11/12\n",
            "469/469 [==============================] - 6s 13ms/step - loss: 2.2906 - accuracy: 0.1213 - val_loss: 2.2877 - val_accuracy: 0.1114\n",
            "Epoch 12/12\n",
            "469/469 [==============================] - 6s 12ms/step - loss: 2.2895 - accuracy: 0.1236 - val_loss: 2.2864 - val_accuracy: 0.1118\n"
          ]
        },
        {
          "output_type": "execute_result",
          "data": {
            "text/plain": [
              "<keras.callbacks.History at 0x7fa354dc5b50>"
            ]
          },
          "metadata": {},
          "execution_count": 84
        }
      ],
      "source": [
        "model.fit(X_train, Y_train, batch_size=128, epochs=12, verbose=1, validation_data=(X_test, Y_test))"
      ]
    },
    {
      "cell_type": "code",
      "execution_count": 85,
      "metadata": {
        "id": "9-_lLM5ZbMtm",
        "colab": {
          "base_uri": "https://localhost:8080/"
        },
        "outputId": "5103f238-0e01-43ec-de63-9770fec6f218"
      },
      "outputs": [
        {
          "output_type": "execute_result",
          "data": {
            "text/plain": [
              "[2.286376476287842, 0.11180000007152557]"
            ]
          },
          "metadata": {},
          "execution_count": 85
        }
      ],
      "source": [
        "model.evaluate(X_test, Y_test, verbose=0)"
      ]
    }
  ],
  "metadata": {
    "kernelspec": {
      "display_name": "Python 3 (ipykernel)",
      "language": "python",
      "name": "python3"
    },
    "language_info": {
      "codemirror_mode": {
        "name": "ipython",
        "version": 3
      },
      "file_extension": ".py",
      "mimetype": "text/x-python",
      "name": "python",
      "nbconvert_exporter": "python",
      "pygments_lexer": "ipython3",
      "version": "3.9.12"
    },
    "vscode": {
      "interpreter": {
        "hash": "7c7da24df9ed2709a5963e01e5c694b36f4218b9d893e201635b9542b8c007e8"
      }
    },
    "colab": {
      "provenance": [],
      "collapsed_sections": [],
      "include_colab_link": true
    }
  },
  "nbformat": 4,
  "nbformat_minor": 0
}